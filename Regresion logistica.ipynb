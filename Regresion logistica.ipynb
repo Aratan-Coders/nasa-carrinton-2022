{
 "cells": [
  {
   "cell_type": "code",
   "execution_count": 1,
   "id": "73baff47-5386-451b-8caa-f758ae0d0627",
   "metadata": {},
   "outputs": [
    {
     "name": "stdout",
     "output_type": "stream",
     "text": [
      "Requirement already satisfied: sklearn in /home/anahoria/.conda/envs/carlos/lib/python3.10/site-packages (0.0)\n",
      "Requirement already satisfied: scikit-learn in /home/anahoria/.conda/envs/carlos/lib/python3.10/site-packages (from sklearn) (1.1.2)\n",
      "Requirement already satisfied: joblib>=1.0.0 in /home/anahoria/.conda/envs/carlos/lib/python3.10/site-packages (from scikit-learn->sklearn) (1.2.0)\n",
      "Requirement already satisfied: scipy>=1.3.2 in /home/anahoria/.conda/envs/carlos/lib/python3.10/site-packages (from scikit-learn->sklearn) (1.9.1)\n",
      "Requirement already satisfied: numpy>=1.17.3 in /home/anahoria/.conda/envs/carlos/lib/python3.10/site-packages (from scikit-learn->sklearn) (1.23.3)\n",
      "Requirement already satisfied: threadpoolctl>=2.0.0 in /home/anahoria/.conda/envs/carlos/lib/python3.10/site-packages (from scikit-learn->sklearn) (3.1.0)\n",
      "Note: you may need to restart the kernel to use updated packages.\n"
     ]
    }
   ],
   "source": [
    "pip install sklearn"
   ]
  },
  {
   "cell_type": "code",
   "execution_count": 2,
   "id": "5c5f2b1b-6f24-4ff6-83b7-fc30aed44916",
   "metadata": {},
   "outputs": [
    {
     "name": "stdout",
     "output_type": "stream",
     "text": [
      "\u001b[31mERROR: Could not find a version that satisfies the requirement pickle (from versions: none)\u001b[0m\u001b[31m\n",
      "\u001b[0m\u001b[31mERROR: No matching distribution found for pickle\u001b[0m\u001b[31m\n",
      "\u001b[0mNote: you may need to restart the kernel to use updated packages.\n"
     ]
    }
   ],
   "source": [
    "pip install pickle"
   ]
  },
  {
   "cell_type": "code",
   "execution_count": 3,
   "id": "0e661abc-df8e-49bb-ba7b-d1b6e4b9eae4",
   "metadata": {},
   "outputs": [
    {
     "name": "stdout",
     "output_type": "stream",
     "text": [
      "\u001b[31mERROR: Could not find a version that satisfies the requirement warnings (from versions: none)\u001b[0m\u001b[31m\n",
      "\u001b[0m\u001b[31mERROR: No matching distribution found for warnings\u001b[0m\u001b[31m\n",
      "\u001b[0mNote: you may need to restart the kernel to use updated packages.\n"
     ]
    }
   ],
   "source": [
    "pip install warnings"
   ]
  },
  {
   "cell_type": "code",
   "execution_count": 4,
   "id": "58d58ae0-c4c0-4efa-838d-edcfc2c334d5",
   "metadata": {},
   "outputs": [],
   "source": [
    "import pandas as pd\n",
    "import pickle\n",
    "#from input import teclado"
   ]
  },
  {
   "cell_type": "code",
   "execution_count": 5,
   "id": "a9fe6914-ea7b-4bde-9c69-4ab183dbc031",
   "metadata": {},
   "outputs": [],
   "source": [
    "# Librerías de visualización\n",
    "import warnings\n",
    "warnings.filterwarnings(\"ignore\")"
   ]
  },
  {
   "cell_type": "code",
   "execution_count": 9,
   "id": "ffed631a-8a49-4768-b137-1da2e33d5c7b",
   "metadata": {},
   "outputs": [],
   "source": [
    "# Una variable para la ruta, buenas prácticas\n",
    "path_to_data = \"sun_data_25k.csv\""
   ]
  },
  {
   "cell_type": "code",
   "execution_count": 7,
   "id": "01f9cde5-dce7-41c8-a401-bce8f020485c",
   "metadata": {},
   "outputs": [],
   "source": [
    "# df One Hot Encoding\n",
    "from sklearn.preprocessing import StandardScaler\n",
    "scaler = StandardScaler()"
   ]
  },
  {
   "cell_type": "code",
   "execution_count": 10,
   "id": "629c3316-78cc-4c73-b841-ae552f1c82d0",
   "metadata": {},
   "outputs": [],
   "source": [
    "# Importamos el dataset\n",
    "df = pd.read_csv(path_to_data)"
   ]
  },
  {
   "cell_type": "code",
   "execution_count": 11,
   "id": "5ce2e0a3-b741-41c4-b52f-02e43c9de021",
   "metadata": {},
   "outputs": [
    {
     "name": "stdout",
     "output_type": "stream",
     "text": [
      "             Tiempo  valor_magnetico_1  valor_magnetico_2  valor_magnetico_3  \\\n",
      "count  2.500000e+04       25000.000000       25000.000000       25000.000000   \n",
      "mean   6.380822e+13          -5.645061           4.989150          -1.336663   \n",
      "std    6.640006e+05           0.934392           1.373761           2.509942   \n",
      "min    6.380821e+13          -7.413360           0.713646          -6.939524   \n",
      "25%    6.380821e+13          -6.247825           4.142826          -3.380339   \n",
      "50%    6.380822e+13          -5.858577           5.357381          -1.174562   \n",
      "75%    6.380822e+13          -5.372287           5.982301           0.485847   \n",
      "max    6.380822e+13          -0.245522           7.666555           8.068673   \n",
      "\n",
      "             modulo  \n",
      "count  25000.000000  \n",
      "mean       8.220879  \n",
      "std        0.147992  \n",
      "min        7.433666  \n",
      "25%        8.138491  \n",
      "50%        8.236253  \n",
      "75%        8.318847  \n",
      "max        9.400977  \n"
     ]
    }
   ],
   "source": [
    "print( df.describe() )"
   ]
  },
  {
   "cell_type": "code",
   "execution_count": 12,
   "id": "fb5c8035-d10e-4ae1-91f1-f0be963cec31",
   "metadata": {},
   "outputs": [],
   "source": [
    "#categoricas = []\n",
    "numericas = [\"Tiempo\", \"valor_magnetico_1\", \"valor_magnetico_2\", \"valor_magnetico_3\"]\n"
   ]
  },
  {
   "cell_type": "code",
   "execution_count": 13,
   "id": "646617ab-1808-424c-98d4-e0baa5133e17",
   "metadata": {},
   "outputs": [
    {
     "name": "stdout",
     "output_type": "stream",
     "text": [
      "X:\n",
      "              Tiempo  valor_magnetico_1  valor_magnetico_2  valor_magnetico_3\n",
      "0      6.380821e+13          -5.987128           2.666523          -5.138955\n",
      "1      6.380821e+13          -5.991735           2.682342          -5.102776\n",
      "2      6.380821e+13          -6.024165           2.690811          -5.060466\n",
      "3      6.380821e+13          -6.029044           2.691353          -5.057029\n",
      "4      6.380821e+13          -6.059289           2.698425          -5.075548\n",
      "...             ...                ...                ...                ...\n",
      "24995  6.380822e+13          -2.877774           6.116465           4.909643\n",
      "24996  6.380822e+13          -2.880066           6.105416           4.886145\n",
      "24997  6.380822e+13          -2.885657           6.063378           4.916986\n",
      "24998  6.380822e+13          -2.889556           5.982297           4.978264\n",
      "24999  6.380822e+13          -2.904951           5.937499           5.004825\n",
      "\n",
      "[25000 rows x 4 columns]\n",
      "y:\n",
      " 0        8.328560\n",
      "1        8.314696\n",
      "2        8.315007\n",
      "3        8.316627\n",
      "4        8.352105\n",
      "           ...   \n",
      "24995    8.354479\n",
      "24996    8.333384\n",
      "24997    8.322759\n",
      "24998    8.301838\n",
      "24999    8.291014\n",
      "Name: modulo, Length: 25000, dtype: float64\n"
     ]
    }
   ],
   "source": [
    "## se elimina variable objetivo, por que es la que queremos predecir\n",
    "X = df.drop(\"modulo\", axis=1)\n",
    "y = df[\"modulo\"]\n",
    "\n",
    "print(\"X:\\n\",X)\n",
    "print(\"y:\\n\",y)"
   ]
  },
  {
   "cell_type": "code",
   "execution_count": 14,
   "id": "2bcffdfb-698a-4502-9974-2eeb850f5453",
   "metadata": {},
   "outputs": [
    {
     "data": {
      "text/plain": [
       "0    8.328560\n",
       "1    8.314696\n",
       "2    8.315007\n",
       "3    8.316627\n",
       "4    8.352105\n",
       "Name: modulo, dtype: float64"
      ]
     },
     "execution_count": 14,
     "metadata": {},
     "output_type": "execute_result"
    }
   ],
   "source": [
    "X.head()\n",
    "y.head()"
   ]
  },
  {
   "cell_type": "code",
   "execution_count": null,
   "id": "48b59bad-20de-4ca8-ade4-93663793e469",
   "metadata": {},
   "outputs": [],
   "source": [
    "#from imblearn.under_sampling import RandomUnderSampler (modelos desvalanceados)\n",
    "#rus = RandomUnderSampler(sampling_strategy=1) # Float\n",
    "#X, y = rus.fit_resample(X,y)\n",
    "\n",
    "#//who to connect a sqlite3?"
   ]
  },
  {
   "cell_type": "code",
   "execution_count": 15,
   "id": "b50055b7-3508-4baf-b17d-75ec090fc0bf",
   "metadata": {},
   "outputs": [],
   "source": [
    "from sklearn.preprocessing import MinMaxScaler, OneHotEncoder, LabelEncoder\n",
    "from sklearn.compose import ColumnTransformer\n"
   ]
  },
  {
   "cell_type": "code",
   "execution_count": 16,
   "id": "59340e25-4da6-4ee9-919d-c150715c1777",
   "metadata": {},
   "outputs": [
    {
     "name": "stdout",
     "output_type": "stream",
     "text": [
      "[[0.00000000e+00 1.98976518e-01 2.80871912e-01 1.19972372e-01]\n",
      " [3.99984419e-05 1.98333758e-01 2.83147060e-01 1.22383015e-01]\n",
      " [7.99968839e-05 1.93809492e-01 2.84365227e-01 1.25202095e-01]\n",
      " ...\n",
      " [9.99919999e-01 6.31669308e-01 7.69423572e-01 7.90002290e-01]\n",
      " [9.99959998e-01 6.31125392e-01 7.57762080e-01 7.94085259e-01]\n",
      " [1.00000000e+00 6.28977589e-01 7.51319022e-01 7.95855025e-01]]\n"
     ]
    },
    {
     "data": {
      "text/html": [
       "<div>\n",
       "<style scoped>\n",
       "    .dataframe tbody tr th:only-of-type {\n",
       "        vertical-align: middle;\n",
       "    }\n",
       "\n",
       "    .dataframe tbody tr th {\n",
       "        vertical-align: top;\n",
       "    }\n",
       "\n",
       "    .dataframe thead th {\n",
       "        text-align: right;\n",
       "    }\n",
       "</style>\n",
       "<table border=\"1\" class=\"dataframe\">\n",
       "  <thead>\n",
       "    <tr style=\"text-align: right;\">\n",
       "      <th></th>\n",
       "      <th>transformer_numerico__Tiempo</th>\n",
       "      <th>transformer_numerico__valor_magnetico_1</th>\n",
       "      <th>transformer_numerico__valor_magnetico_2</th>\n",
       "      <th>transformer_numerico__valor_magnetico_3</th>\n",
       "    </tr>\n",
       "  </thead>\n",
       "  <tbody>\n",
       "    <tr>\n",
       "      <th>0</th>\n",
       "      <td>0.00000</td>\n",
       "      <td>0.198977</td>\n",
       "      <td>0.280872</td>\n",
       "      <td>0.119972</td>\n",
       "    </tr>\n",
       "    <tr>\n",
       "      <th>1</th>\n",
       "      <td>0.00004</td>\n",
       "      <td>0.198334</td>\n",
       "      <td>0.283147</td>\n",
       "      <td>0.122383</td>\n",
       "    </tr>\n",
       "    <tr>\n",
       "      <th>2</th>\n",
       "      <td>0.00008</td>\n",
       "      <td>0.193809</td>\n",
       "      <td>0.284365</td>\n",
       "      <td>0.125202</td>\n",
       "    </tr>\n",
       "    <tr>\n",
       "      <th>3</th>\n",
       "      <td>0.00012</td>\n",
       "      <td>0.193129</td>\n",
       "      <td>0.284443</td>\n",
       "      <td>0.125431</td>\n",
       "    </tr>\n",
       "    <tr>\n",
       "      <th>4</th>\n",
       "      <td>0.00016</td>\n",
       "      <td>0.188909</td>\n",
       "      <td>0.285460</td>\n",
       "      <td>0.124197</td>\n",
       "    </tr>\n",
       "    <tr>\n",
       "      <th>...</th>\n",
       "      <td>...</td>\n",
       "      <td>...</td>\n",
       "      <td>...</td>\n",
       "      <td>...</td>\n",
       "    </tr>\n",
       "    <tr>\n",
       "      <th>24995</th>\n",
       "      <td>0.99984</td>\n",
       "      <td>0.632769</td>\n",
       "      <td>0.777059</td>\n",
       "      <td>0.789513</td>\n",
       "    </tr>\n",
       "    <tr>\n",
       "      <th>24996</th>\n",
       "      <td>0.99988</td>\n",
       "      <td>0.632449</td>\n",
       "      <td>0.775470</td>\n",
       "      <td>0.787947</td>\n",
       "    </tr>\n",
       "    <tr>\n",
       "      <th>24997</th>\n",
       "      <td>0.99992</td>\n",
       "      <td>0.631669</td>\n",
       "      <td>0.769424</td>\n",
       "      <td>0.790002</td>\n",
       "    </tr>\n",
       "    <tr>\n",
       "      <th>24998</th>\n",
       "      <td>0.99996</td>\n",
       "      <td>0.631125</td>\n",
       "      <td>0.757762</td>\n",
       "      <td>0.794085</td>\n",
       "    </tr>\n",
       "    <tr>\n",
       "      <th>24999</th>\n",
       "      <td>1.00000</td>\n",
       "      <td>0.628978</td>\n",
       "      <td>0.751319</td>\n",
       "      <td>0.795855</td>\n",
       "    </tr>\n",
       "  </tbody>\n",
       "</table>\n",
       "<p>25000 rows × 4 columns</p>\n",
       "</div>"
      ],
      "text/plain": [
       "       transformer_numerico__Tiempo  transformer_numerico__valor_magnetico_1  \\\n",
       "0                           0.00000                                 0.198977   \n",
       "1                           0.00004                                 0.198334   \n",
       "2                           0.00008                                 0.193809   \n",
       "3                           0.00012                                 0.193129   \n",
       "4                           0.00016                                 0.188909   \n",
       "...                             ...                                      ...   \n",
       "24995                       0.99984                                 0.632769   \n",
       "24996                       0.99988                                 0.632449   \n",
       "24997                       0.99992                                 0.631669   \n",
       "24998                       0.99996                                 0.631125   \n",
       "24999                       1.00000                                 0.628978   \n",
       "\n",
       "       transformer_numerico__valor_magnetico_2  \\\n",
       "0                                     0.280872   \n",
       "1                                     0.283147   \n",
       "2                                     0.284365   \n",
       "3                                     0.284443   \n",
       "4                                     0.285460   \n",
       "...                                        ...   \n",
       "24995                                 0.777059   \n",
       "24996                                 0.775470   \n",
       "24997                                 0.769424   \n",
       "24998                                 0.757762   \n",
       "24999                                 0.751319   \n",
       "\n",
       "       transformer_numerico__valor_magnetico_3  \n",
       "0                                     0.119972  \n",
       "1                                     0.122383  \n",
       "2                                     0.125202  \n",
       "3                                     0.125431  \n",
       "4                                     0.124197  \n",
       "...                                        ...  \n",
       "24995                                 0.789513  \n",
       "24996                                 0.787947  \n",
       "24997                                 0.790002  \n",
       "24998                                 0.794085  \n",
       "24999                                 0.795855  \n",
       "\n",
       "[25000 rows x 4 columns]"
      ]
     },
     "execution_count": 16,
     "metadata": {},
     "output_type": "execute_result"
    }
   ],
   "source": [
    "transformer_numerico = (\"transformer_numerico\", MinMaxScaler(), numericas)\n",
    "#transformer_categorico = (\"transformer_categorico\", OneHotEncoder(), categoricas)\n",
    "\n",
    "transformer = ColumnTransformer([transformer_numerico], remainder=\"passthrough\")\n",
    "#transformer = ColumnTransformer([transformer_numerico, transformer_categorico], remainder=\"passthrough\")\n",
    "\n",
    "lab = LabelEncoder()\n",
    "y = lab.fit_transform(y)\n",
    "X = transformer.fit_transform(X)\n",
    "print(X)\n",
    "\n",
    "pickle.dump(transformer, open('transformer_entrenado.pkl', 'wb'))\n",
    "\n",
    "\n",
    "pd.DataFrame(X, columns = transformer.get_feature_names_out())\n",
    "#pd.DataFrame(XX, columns = transformer.get_feature_names_out())\n"
   ]
  },
  {
   "cell_type": "code",
   "execution_count": 17,
   "id": "2fd78fa7-6f65-49c3-b913-103f518794dc",
   "metadata": {},
   "outputs": [],
   "source": [
    "from sklearn.model_selection import train_test_split\n",
    "\n",
    "X_train, X_test, y_train, y_test = train_test_split(X, y, train_size=0.7, random_state=1)\n",
    "\n",
    "\n",
    "\n",
    "\n",
    "from sklearn.linear_model import LogisticRegression\n",
    "\n",
    "from sklearn.metrics import accuracy_score\n",
    "from sklearn.metrics import roc_auc_score\n",
    "from sklearn.metrics import r2_score\n",
    "from sklearn.metrics import recall_score\n",
    "from sklearn.metrics import precision_score\n",
    "from sklearn.metrics import confusion_matrix"
   ]
  },
  {
   "cell_type": "code",
   "execution_count": null,
   "id": "99676415-957f-4f44-864b-67a7190bd85c",
   "metadata": {},
   "outputs": [
    {
     "name": "stdout",
     "output_type": "stream",
     "text": [
      "[[0.17156    0.22965625 0.71676418 0.52300135]\n",
      " [0.78488    0.22713338 0.66437793 0.28093652]\n",
      " [0.5986     0.13207725 0.39780544 0.2145323 ]\n",
      " ...\n",
      " [0.20768    0.23877308 0.76728112 0.4655374 ]\n",
      " [0.48688    0.20591536 0.68901058 0.40815156]\n",
      " [0.0094     0.2303642  0.18202563 0.09133999]]\n",
      "[ 7395 19254 12208 ... 18307  6167 13708]\n",
      "acuracy user 0.0\n"
     ]
    }
   ],
   "source": [
    "def train_evaluate(nombre_modelo, modelo):\n",
    "    #LogisticRegression si algo no funciona puede ser los hiperparamentros\n",
    "    mod = modelo(fit_intercept=True, penalty='l2', tol=1e-5, C=0.8, solver='lbfgs', max_iter=75,warm_start=True)\n",
    "    # Creamos el modelo\n",
    "    pickle.dump(mod, open('modelo_entrenado.pkl', 'wb'))\n",
    "\n",
    "    print(X_train)\n",
    "    print(y_train)\n",
    "\n",
    "    mod.fit(X_train, y_train)\n",
    "    y_predict = mod.predict(X_test)\n",
    "    \n",
    "    print(\"acuracy user\", accuracy_score(y_test, y_predict) )\n",
    "        # Creamos el transformore\n",
    "    accuracy = accuracy_score(y_test, y_predict)\n",
    "    #auc = roc_auc_score(y_test, y_predict)\n",
    "    recall = recall_score(y_test, y_predict, average='micro')\n",
    "    precision = precision_score(y_test, y_predict, average='micro')\n",
    "    confusionmatrix = confusion_matrix(y_test, y_predict)\n",
    "    \n",
    "    y_pred_train = mod.predict(X_train)\n",
    "    \n",
    "    accuracy_train = accuracy_score(y_train, y_pred_train)\n",
    "\n",
    "    #auc_train = roc_auc_score(y_train, y_pred_train)\n",
    "    recall_train = recall_score(y_train, y_pred_train)\n",
    "    precision_train = precision_score(y_train, y_pred_train)\n",
    "    confusionmatrix_train = confusion_matrix(y_train, y_pred_train)\n",
    "    \n",
    "    \n",
    "    print(nombre_modelo)\n",
    "    print()\n",
    "    print(f\"Accuracy: {accuracy}\")\n",
    "#    print(f\"Accuracy: {accuracy_y}\")\n",
    "    #print(f\"RocAUC: {auc}\")\n",
    "    print(f\"Recall: {recall}\")\n",
    "    print(f\"Precision: {precision}\")\n",
    "    print(f\"ConfusionMatrix: {confusionmatrix}\")\n",
    "\n",
    "    print(nombre_modelo)\n",
    "    print()\n",
    "    print(f\"Accuracy_train: {accuracy_train}\")\n",
    "#    print(f\"Accuracy_train: {accuracy_train_y}\")\n",
    "    #print(f\"RocAUC_train: {auc_train}\")\n",
    "    print(f\"Recall_train: {recall_train}\")\n",
    "    print(f\"Precision_train: {precision_train}\")\n",
    "    print(f\"ConfusionMatrix_train: {confusionmatrix_train}\")\n",
    "    print(f\"\\nError: \", abs(accuracy - accuracy_train) )\n",
    "    print()\n",
    "    \n",
    "    y_pred_train = mod.predict(X_train)\n",
    "    \n",
    "train_evaluate(\"LogisticRegression\", LogisticRegression)"
   ]
  },
  {
   "cell_type": "code",
   "execution_count": null,
   "id": "95e0e6fa-194c-4173-9abd-02c66c3a9028",
   "metadata": {},
   "outputs": [],
   "source": []
  }
 ],
 "metadata": {
  "kernelspec": {
   "display_name": "Python 3 (ipykernel)",
   "language": "python",
   "name": "python3"
  },
  "language_info": {
   "codemirror_mode": {
    "name": "ipython",
    "version": 3
   },
   "file_extension": ".py",
   "mimetype": "text/x-python",
   "name": "python",
   "nbconvert_exporter": "python",
   "pygments_lexer": "ipython3",
   "version": "3.10.4"
  }
 },
 "nbformat": 4,
 "nbformat_minor": 5
}
